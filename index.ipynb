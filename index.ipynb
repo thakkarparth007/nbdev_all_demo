{
 "cells": [
  {
   "cell_type": "code",
   "execution_count": 1,
   "metadata": {},
   "outputs": [
    {
     "name": "stdout",
     "output_type": "stream",
     "text": [
      "m1 loaded, pi= 3.141592653589793\n"
     ]
    }
   ],
   "source": [
    "#hide\n",
    "from nbdev_all_demo.m1 import *"
   ]
  },
  {
   "cell_type": "markdown",
   "metadata": {},
   "source": [
    "# nbdev_all_demo\n",
    "\n",
    "> Demoing the issue at https://github.com/fastai/nbdev/issues/328"
   ]
  },
  {
   "cell_type": "markdown",
   "metadata": {},
   "source": [
    "## Summary of the issue"
   ]
  },
  {
   "cell_type": "markdown",
   "metadata": {},
   "source": [
    "I've created two nearly identical notebooks: `m1` and `m1_copy`, which both import the math module as `math1` and `math2` respectively, and 'exports' them by default (via \\_all_).\n",
    "\n",
    "The only catch is:\n",
    "- First I ran nbdev_build_lib for both, which generated `m1.py` and `m1_copy.py` respectively\n",
    "- In `m1_copy.py`, I added an extra print statement and then ran `nbdev_upload_lib`\n",
    "\n",
    "This added the print statement in `m1_copy.ipynb`, but it also incorrectly replaced the `_all_ = ['math2']` line with `#nbdev_comment _all_ = ['math2']`. This is likely happening because when `nbdev_upload_lib` parses `m1_copy.py`, it doesn't treat `#nbdev_comment` comments specially.\n",
    "\n",
    "So, on running `nbdev_build_lib` again (say, I changed some random notebook), the `__all__` variable in `m1_copy.py` becomes `[]`, as there is no (uncommented) `_all_ = ['math2']` statement in the notebook."
   ]
  },
  {
   "cell_type": "markdown",
   "metadata": {},
   "source": [
    "So now, when I try to use `math2` after importing `m1_copy`, it gives an error"
   ]
  },
  {
   "cell_type": "code",
   "execution_count": 3,
   "metadata": {},
   "outputs": [
    {
     "name": "stdout",
     "output_type": "stream",
     "text": [
      "m1_copy loaded, pi= 3.141592653589793\n",
      "This is added directly in m1_copy.py\n"
     ]
    }
   ],
   "source": [
    "from nbdev_all_demo.m1_copy import *"
   ]
  },
  {
   "cell_type": "code",
   "execution_count": 4,
   "metadata": {},
   "outputs": [
    {
     "ename": "NameError",
     "evalue": "name 'math2' is not defined",
     "output_type": "error",
     "traceback": [
      "\u001b[1;31m---------------------------------------------------------------------------\u001b[0m",
      "\u001b[1;31mNameError\u001b[0m                                 Traceback (most recent call last)",
      "\u001b[1;32m<ipython-input-4-e78faf57ed6d>\u001b[0m in \u001b[0;36m<module>\u001b[1;34m\u001b[0m\n\u001b[1;32m----> 1\u001b[1;33m \u001b[0mmath2\u001b[0m\u001b[1;33m.\u001b[0m\u001b[0mpi\u001b[0m\u001b[1;33m\u001b[0m\u001b[0m\n\u001b[0m",
      "\u001b[1;31mNameError\u001b[0m: name 'math2' is not defined"
     ]
    }
   ],
   "source": [
    "math2.pi"
   ]
  },
  {
   "cell_type": "code",
   "execution_count": null,
   "metadata": {},
   "outputs": [],
   "source": []
  }
 ],
 "metadata": {
  "kernelspec": {
   "display_name": "Python 3",
   "language": "python",
   "name": "python3"
  },
  "language_info": {
   "codemirror_mode": {
    "name": "ipython",
    "version": 3
   },
   "file_extension": ".py",
   "mimetype": "text/x-python",
   "name": "python",
   "nbconvert_exporter": "python",
   "pygments_lexer": "ipython3",
   "version": "3.6.6"
  }
 },
 "nbformat": 4,
 "nbformat_minor": 2
}
